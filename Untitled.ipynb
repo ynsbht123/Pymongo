{
 "cells": [
  {
   "cell_type": "markdown",
   "id": "7e6e2c8d-159e-4a0b-b8f5-c119d7a9e861",
   "metadata": {},
   "source": [
    "<h2><center><span style=\"color:red\">TP : Implémentation d'un cas d'étude - MySQL et MongoDB , Realisé par :  <b>Youness Bouhout</span></h2>"
   ]
  },
  {
   "cell_type": "markdown",
   "id": "0f763170-46d9-4787-80a0-13accdf06258",
   "metadata": {},
   "source": [
    "<h3><span style=\"color:green\">--- Partie MySQL ---</span></h4>"
   ]
  },
  {
   "cell_type": "markdown",
   "id": "42246b71-adbf-4384-9f4d-567ca08d2fc8",
   "metadata": {},
   "source": [
    "#### 1. Création des tables"
   ]
  },
  {
   "cell_type": "code",
   "execution_count": 24,
   "id": "103c5bcb-78d9-4f45-bf50-33da6e433131",
   "metadata": {},
   "outputs": [],
   "source": [
    "mysql_create_tables = \"\"\"\n",
    "CREATE TABLE Utilisateur (\n",
    "    id SERIAL PRIMARY KEY,\n",
    "    nom VARCHAR(100),\n",
    "    email VARCHAR(100)\n",
    ");\n",
    "\n",
    "CREATE TABLE Produit (\n",
    "    id SERIAL PRIMARY KEY,\n",
    "    nom VARCHAR(100),\n",
    "    prix DECIMAL(10,2)\n",
    ");\n",
    "\n",
    "CREATE TABLE Achat (\n",
    "    id SERIAL PRIMARY KEY,\n",
    "    utilisateur_id INT REFERENCES Utilisateur(id),\n",
    "    produit_id INT REFERENCES Produit(id)\n",
    ");\n",
    "\"\"\""
   ]
  },
  {
   "cell_type": "markdown",
   "id": "c0b854f3-5f94-4291-92ba-bca1610164bf",
   "metadata": {},
   "source": [
    "<style>\n",
    "  .image-style {\n",
    "    border: 2px solid #000;\n",
    "    border-radius: 10px;\n",
    "    box-shadow: 2px 2px 10px gray;\n",
    "    width: 200px;\n",
    "  }\n",
    "</style>\n",
    "\n",
    "<img src=\"capture 1.png\" alt=\"Capture 1 \" class=\"image-style\">\n"
   ]
  },
  {
   "cell_type": "markdown",
   "id": "2fca3319-548e-4457-8873-db8f5293b3df",
   "metadata": {},
   "source": [
    "### 2. Requête pour afficher les commandes de l'utilisateur ID = 5"
   ]
  },
  {
   "cell_type": "code",
   "execution_count": 25,
   "id": "977e7e60-a3f5-4df3-8b05-f1372d240248",
   "metadata": {},
   "outputs": [],
   "source": [
    "mysql_query_user5 = \"\"\"\n",
    "SELECT * FROM Achat \n",
    "JOIN Produit ON Achat.produit_id = Produit.id \n",
    "WHERE Achat.utilisateur_id = 5;\n",
    "\"\"\""
   ]
  },
  {
   "cell_type": "markdown",
   "id": "77545a0e-57b8-41a3-a394-456b39e68fbb",
   "metadata": {},
   "source": [
    "<style>\n",
    "  .image-style {\n",
    "    border: 2px solid #000;\n",
    "    border-radius: 10px;\n",
    "    box-shadow: 2px 2px 10px gray;\n",
    "    width: 200px;\n",
    "  }\n",
    "</style>\n",
    "\n",
    "<img src=\"Capture 2.png\" alt=\"Capture 2\" class=\"image-style\">\n"
   ]
  },
  {
   "cell_type": "markdown",
   "id": "3f39a12d-180e-4fa8-a164-f074fb1e2e03",
   "metadata": {},
   "source": [
    "\n",
    "### 3. Exemple d'intégrité référentielle"
   ]
  },
  {
   "cell_type": "code",
   "execution_count": 26,
   "id": "b455171b-cebf-436a-8f31-65fac1a85251",
   "metadata": {},
   "outputs": [],
   "source": [
    "mysql_integrity = \"\"\"\n",
    "FOREIGN KEY (utilisateur_id) REFERENCES Utilisateur(id) ON DELETE CASCADE\n",
    "\"\"\""
   ]
  },
  {
   "cell_type": "markdown",
   "id": "9deb3a6b-15e3-421b-8eba-5a6d9a9cdd58",
   "metadata": {},
   "source": [
    "### 4. Structure pour plusieurs produits par commande"
   ]
  },
  {
   "cell_type": "code",
   "execution_count": 27,
   "id": "4b7f70c9-7835-4669-8088-f1101384cce7",
   "metadata": {},
   "outputs": [],
   "source": [
    "mysql_extended_structure = \"\"\"\n",
    "CREATE TABLE Commande (\n",
    "    id SERIAL PRIMARY KEY,\n",
    "    utilisateur_id INT,\n",
    "    date_commande DATETIME,\n",
    "    FOREIGN KEY (utilisateur_id) REFERENCES Utilisateur(id)\n",
    ");\n",
    "\n",
    "CREATE TABLE Commande_Produit (\n",
    "    commande_id INT,\n",
    "    produit_id INT,\n",
    "    quantite INT,\n",
    "    PRIMARY KEY (commande_id, produit_id),\n",
    "    FOREIGN KEY (commande_id) REFERENCES Commande(id),\n",
    "    FOREIGN KEY (produit_id) REFERENCES Produit(id)\n",
    ");\n",
    "\"\"\"\n"
   ]
  },
  {
   "cell_type": "markdown",
   "id": "4a132dda-f6ed-440b-8849-1788599f741e",
   "metadata": {},
   "source": [
    "### 5. Indexation pour performance"
   ]
  },
  {
   "cell_type": "code",
   "execution_count": 28,
   "id": "b5b0e491-54fb-4d94-97d1-7b1e7291c56c",
   "metadata": {},
   "outputs": [],
   "source": [
    "mysql_indexing = \"\"\"\n",
    "CREATE INDEX idx_utilisateur_id ON Achat(utilisateur_id);\n",
    "\"\"\""
   ]
  },
  {
   "cell_type": "markdown",
   "id": "6a70d144-0d7e-461f-93b9-f5fdc71fbe02",
   "metadata": {},
   "source": [
    "<h3><span style=\"color:green\">--- Partie MongoDB ---</span></h4>"
   ]
  },
  {
   "cell_type": "markdown",
   "id": "6b648cc1-ddff-4e1b-9ed6-8e368dbfa244",
   "metadata": {},
   "source": [
    "#### 1. Exemple de document utilisateur"
   ]
  },
  {
   "cell_type": "code",
   "execution_count": 29,
   "id": "82c40392-d2a8-4817-914d-fbd526d009e3",
   "metadata": {},
   "outputs": [],
   "source": [
    "mongo_document = {\n",
    "    \"_id\": 1,\n",
    "    \"nom\": \"Aya\",\n",
    "    \"email\": \"aya@example.com\",\n",
    "    \"achats\": [\n",
    "        {\"produit_id\": 1, \"nom\": \"Chaussures\", \"prix\": 99.99},\n",
    "        {\"produit_id\": 2, \"nom\": \"Sac\", \"prix\": 135.00}\n",
    "    ]\n",
    "}"
   ]
  },
  {
   "attachments": {},
   "cell_type": "markdown",
   "id": "aba77f26-d604-45f9-92c4-4245dec5695f",
   "metadata": {},
   "source": [
    "<style>\n",
    "  .image-style {\n",
    "    border: 2px solid #000;\n",
    "    border-radius: 10px;\n",
    "    box-shadow: 2px 2px 10px gray;\n",
    "    width: 200px;\n",
    "  }\n",
    "</style>\n",
    "\n",
    "<img src=\"Capture 3.png\" alt=\"Logo stylisé\" class=\"image-style\">\n"
   ]
  },
  {
   "cell_type": "markdown",
   "id": "3e2d2fd9-2111-4868-bfb4-f2c2accc6f79",
   "metadata": {},
   "source": [
    "#### 2. Ajout d'un achat"
   ]
  },
  {
   "cell_type": "code",
   "execution_count": 30,
   "id": "6e238246-6205-4555-8664-2a9371eff54b",
   "metadata": {},
   "outputs": [],
   "source": [
    "mongo_add_achat = {\n",
    "    \"$push\": {\n",
    "        \"achats\": {\"produit_id\": 3, \"nom\": \"Montre\", \"prix\": 250.00}\n",
    "    }\n",
    "}"
   ]
  },
  {
   "cell_type": "markdown",
   "id": "ab605114-d808-4eed-8cb2-544c3b8234b2",
   "metadata": {},
   "source": [
    "<h2><span style=\"color:red\">3. Avantages de l'imbrication</span></h2>\n",
    "<ul>\n",
    "<li><b> - Accès rapide aux données d’un utilisateur</li>\n",
    " <li><b>- Moins de jointures</li>\n",
    " <li><b>- Structure naturelle</li> </ul>\n"
   ]
  },
  {
   "cell_type": "markdown",
   "id": "ef0d9153-31d4-42cb-8ed8-0fe58053a618",
   "metadata": {},
   "source": [
    "# 4. Stratégie si trop de commandes : dénormalisation"
   ]
  },
  {
   "cell_type": "code",
   "execution_count": 31,
   "id": "52a2398e-4ca8-4dbd-84bf-5a1502d039d6",
   "metadata": {},
   "outputs": [],
   "source": [
    "mongo_user_ref = {\n",
    "    \"_id\": 1,\n",
    "    \"nom\": \"Aya\",\n",
    "    \"email\": \"aya@example.com\",\n",
    "    \"achats_ids\": [1001, 1002]\n",
    "}\n",
    "mongo_achat = {\n",
    "    \"_id\": 1001,\n",
    "    \"utilisateur_id\": 1,\n",
    "    \"produits\": [\n",
    "        {\"produit_id\": 1, \"nom\": \"Chaussures\", \"prix\": 99.99}\n",
    "    ]\n",
    "}"
   ]
  },
  {
   "cell_type": "markdown",
   "id": "843b3904-2e0f-468d-b6c0-09d58fda1c23",
   "metadata": {},
   "source": [
    "# 5. MongoDB permet des documents de structure différente"
   ]
  },
  {
   "cell_type": "code",
   "execution_count": 32,
   "id": "7f38e3ed-c6b2-4434-89b8-7361cba2df1d",
   "metadata": {},
   "outputs": [],
   "source": [
    "# Exemple :\n",
    "mongo_user1 = {\"_id\": 2, \"nom\": \"Karim\", \"email\": \"karim@example.com\"}\n",
    "mongo_user2 = {\"_id\": 3, \"nom\": \"Lina\", \"email\": \"lina@example.com\", \"achats\": [...]}  \n"
   ]
  },
  {
   "cell_type": "markdown",
   "id": "ca78fd4f-4128-4b4e-9c42-607f13bebf21",
   "metadata": {},
   "source": [
    "<h2><center><span style=\"color:red\">Exemple de realisation de tp : en utilisant pymongo</span></h2>"
   ]
  },
  {
   "cell_type": "code",
   "execution_count": 37,
   "id": "fdb9ad47-9792-4200-a5f4-e702526a8e7d",
   "metadata": {},
   "outputs": [
    {
     "name": "stdout",
     "output_type": "stream",
     "text": [
      "User 5 Purchases: [{'_id': 8, 'name': 'Perfume', 'price': 60.0}]\n",
      "Updated User 5 Purchases: [{'_id': 8, 'name': 'Perfume', 'price': 60.0}, {'_id': 4, 'name': 'Watch', 'price': 220.0}]\n",
      "{'_id': 1, 'name': 'Aya', 'email': 'aya@example.com', 'purchases': [{'_id': 1, 'name': 'Shoes', 'price': 99.99}, {'_id': 2, 'name': 'Bag', 'price': 135.0}]}\n",
      "\n",
      "MongoDB TP Completed Successfully \n"
     ]
    }
   ],
   "source": [
    "# MongoDB Implementation: User and Product Management in E-commerce\n",
    "\n",
    "## 📌 Objective:\n",
    "# This notebook demonstrates how to implement a simple e-commerce case study using MongoDB.\n",
    "# We will store user data, product data, and their relationships (purchases) using MongoDB documents.\n",
    "\n",
    "from pymongo import MongoClient\n",
    "from bson.objectid import ObjectId\n",
    "\n",
    "# Connect to MongoDB (assumes localhost MongoDB instance)\n",
    "client = MongoClient(\"mongodb://localhost:27017/\")\n",
    "db = client[\"ecommerce\"]\n",
    "\n",
    "# Drop collections if they exist (for repeatability)\n",
    "db.users.drop()\n",
    "db.products.drop()\n",
    "\n",
    "## 📦 Sample Data Insertion\n",
    "\n",
    "# Insert products\n",
    "products = [\n",
    "    {\"_id\": 1, \"name\": \"Shoes\", \"price\": 99.99},\n",
    "    {\"_id\": 2, \"name\": \"Bag\", \"price\": 135.00},\n",
    "    {\"_id\": 3, \"name\": \"T-Shirt\", \"price\": 25.50},\n",
    "    {\"_id\": 4, \"name\": \"Watch\", \"price\": 220.00},\n",
    "    {\"_id\": 5, \"name\": \"Jeans\", \"price\": 70.00},\n",
    "    {\"_id\": 6, \"name\": \"Jacket\", \"price\": 120.00},\n",
    "    {\"_id\": 7, \"name\": \"Sunglasses\", \"price\": 80.00},\n",
    "    {\"_id\": 8, \"name\": \"Perfume\", \"price\": 60.00},\n",
    "    {\"_id\": 9, \"name\": \"Hat\", \"price\": 30.00},\n",
    "    {\"_id\": 10, \"name\": \"Scarf\", \"price\": 20.00},\n",
    "]\n",
    "db.products.insert_many(products)\n",
    "\n",
    "# Insert users with embedded purchases\n",
    "users = [\n",
    "    {\n",
    "        \"_id\": 1,\n",
    "        \"name\": \"Aya\",\n",
    "        \"email\": \"aya@example.com\",\n",
    "        \"purchases\": [products[0], products[1]]\n",
    "    },\n",
    "    {\n",
    "        \"_id\": 2,\n",
    "        \"name\": \"Yassine\",\n",
    "        \"email\": \"yassine@example.com\",\n",
    "        \"purchases\": [products[2], products[3]]\n",
    "    },\n",
    "    {\n",
    "        \"_id\": 3,\n",
    "        \"name\": \"Salma\",\n",
    "        \"email\": \"salma@example.com\",\n",
    "        \"purchases\": [products[4]]\n",
    "    },\n",
    "    {\n",
    "        \"_id\": 4,\n",
    "        \"name\": \"Omar\",\n",
    "        \"email\": \"omar@example.com\",\n",
    "        \"purchases\": [products[5], products[6]]\n",
    "    },\n",
    "    {\n",
    "        \"_id\": 5,\n",
    "        \"name\": \"Imane\",\n",
    "        \"email\": \"imane@example.com\",\n",
    "        \"purchases\": [products[7]]\n",
    "    },\n",
    "    {\n",
    "        \"_id\": 6,\n",
    "        \"name\": \"Ali\",\n",
    "        \"email\": \"ali@example.com\",\n",
    "        \"purchases\": [products[8], products[9]]\n",
    "    },\n",
    "    {\n",
    "        \"_id\": 7,\n",
    "        \"name\": \"Sara\",\n",
    "        \"email\": \"sara@example.com\",\n",
    "        \"purchases\": []\n",
    "    },\n",
    "    {\n",
    "        \"_id\": 8,\n",
    "        \"name\": \"Anas\",\n",
    "        \"email\": \"anas@example.com\",\n",
    "        \"purchases\": [products[2]]\n",
    "    },\n",
    "    {\n",
    "        \"_id\": 9,\n",
    "        \"name\": \"Nada\",\n",
    "        \"email\": \"nada@example.com\",\n",
    "        \"purchases\": [products[1]]\n",
    "    },\n",
    "    {\n",
    "        \"_id\": 10,\n",
    "        \"name\": \"Hicham\",\n",
    "        \"email\": \"hicham@example.com\",\n",
    "        \"purchases\": [products[3], products[6]]\n",
    "    },\n",
    "]\n",
    "db.users.insert_many(users)\n",
    "\n",
    "## 🔍 Queries\n",
    "\n",
    "# 1. Retrieve all purchases for user with _id = 5\n",
    "user5 = db.users.find_one({\"_id\": 5})\n",
    "print(\"User 5 Purchases:\", user5[\"purchases\"])\n",
    "\n",
    "# 2. Add a new purchase to user 5 (e.g., product 4)\n",
    "db.users.update_one(\n",
    "    {\"_id\": 5},\n",
    "    {\"$push\": {\"purchases\": products[3]}}\n",
    ")\n",
    "\n",
    "# 3. Check updated purchases\n",
    "updated_user5 = db.users.find_one({\"_id\": 5})\n",
    "print(\"Updated User 5 Purchases:\", updated_user5[\"purchases\"])\n",
    "\n",
    "## ✅ Answers to TP Questions – MongoDB\n",
    "\n",
    "# Q1: What does a user document with purchases look like?\n",
    "example_user = db.users.find_one({\"_id\": 1})\n",
    "print(example_user)\n",
    "\n",
    "# Q2: What command adds a purchase to an existing document?\n",
    "# -> db.users.update_one({\"_id\": 5}, {\"$push\": {\"purchases\": product}})\n",
    "\n",
    "# Q3: Advantages of embedding purchases in the user document?\n",
    "# - Fast read performance (no joins)\n",
    "# - Simpler data model for nested data\n",
    "# - Atomicity of operations on a single document\n",
    "\n",
    "# Q4: What if purchases become too large?\n",
    "# - Use referencing instead of embedding\n",
    "# - Normalize: store purchases in a separate collection with user_id as reference\n",
    "\n",
    "# Q5: Can documents have different structures?\n",
    "# - Yes, MongoDB is schema-less\n",
    "# - Example: one user may have a \"phone\" field, another may not\n",
    "\n",
    "\n",
    "print(\"\\nMongoDB TP Completed Successfully \")\n"
   ]
  },
  {
   "cell_type": "markdown",
   "id": "34ce0748-9790-4156-ba44-ed9521cb531e",
   "metadata": {},
   "source": [
    "<style>\n",
    "  .image-style {\n",
    "    border: 2px solid #000;\n",
    "    border-radius: 10px;\n",
    "    box-shadow: 2px 2px 10px gray;\n",
    "    width: 200px;\n",
    "  }\n",
    "</style>\n",
    "\n",
    "<img src=\"Capture 4.png\" alt=\"Logo stylisé\" class=\"image-style\">"
   ]
  },
  {
   "cell_type": "code",
   "execution_count": null,
   "id": "6b392267-1d73-454e-8bad-9aafec9a5dae",
   "metadata": {},
   "outputs": [],
   "source": []
  }
 ],
 "metadata": {
  "kernelspec": {
   "display_name": "Python 3 (ipykernel)",
   "language": "python",
   "name": "python3"
  },
  "language_info": {
   "codemirror_mode": {
    "name": "ipython",
    "version": 3
   },
   "file_extension": ".py",
   "mimetype": "text/x-python",
   "name": "python",
   "nbconvert_exporter": "python",
   "pygments_lexer": "ipython3",
   "version": "3.12.4"
  }
 },
 "nbformat": 4,
 "nbformat_minor": 5
}
